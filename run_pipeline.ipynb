{
 "cells": [
  {
   "cell_type": "markdown",
   "id": "83e26dcf",
   "metadata": {},
   "source": [
    "# Running CNV-Finder on Provided Example Data\n",
    "\n",
    "* **Version:** Python/3.9.16\n",
    "* **Status:** Complete\n",
    "* **Last Updated:** 02-JUN-2025\n",
    "\n",
    "### Notebook Description\n",
    "The following is a short template for how researchers can use CNV-Finder to explore a large data release for highly probable CNV samples within specific cohorts and regions of interest. \n",
    "\n",
    "More customizable argument flags are avaiable to use, outlined in `docs/parameter_guide.md` or are coming soon!\n",
    "\n",
    "---"
   ]
  },
  {
   "cell_type": "markdown",
   "id": "eea0daf6",
   "metadata": {},
   "source": [
    "### Getting started"
   ]
  },
  {
   "cell_type": "code",
   "execution_count": null,
   "id": "d9bd72ae",
   "metadata": {},
   "outputs": [],
   "source": [
    "! pip install -r requirements.txt"
   ]
  },
  {
   "cell_type": "code",
   "execution_count": 1,
   "id": "5b30bd7c",
   "metadata": {},
   "outputs": [],
   "source": [
    "# Import necessary packages after pip installing requirements.txt\n",
    "import sys\n",
    "import os\n",
    "import subprocess\n",
    "import pandas as pd\n",
    "import numpy as np\n",
    "\n",
    "from modules.cnv_finder.data_methods import check_interval"
   ]
  },
  {
   "cell_type": "code",
   "execution_count": null,
   "id": "e659f6ad",
   "metadata": {},
   "outputs": [],
   "source": [
    "# Define your working directory\n",
    "wd = '/YOUR/DIRECTORY'"
   ]
  },
  {
   "cell_type": "markdown",
   "id": "5e6d3ae9",
   "metadata": {},
   "source": [
    "### Path Set-Up"
   ]
  },
  {
   "cell_type": "code",
   "execution_count": 3,
   "id": "5f6655fd",
   "metadata": {},
   "outputs": [
    {
     "name": "stdout",
     "output_type": "stream",
     "text": [
      "study\n",
      "TEST1    10\n",
      "TEST2    10\n",
      "Name: count, dtype: int64\n"
     ]
    },
    {
     "data": {
      "text/html": [
       "<div>\n",
       "<style scoped>\n",
       "    .dataframe tbody tr th:only-of-type {\n",
       "        vertical-align: middle;\n",
       "    }\n",
       "\n",
       "    .dataframe tbody tr th {\n",
       "        vertical-align: top;\n",
       "    }\n",
       "\n",
       "    .dataframe thead th {\n",
       "        text-align: right;\n",
       "    }\n",
       "</style>\n",
       "<table border=\"1\" class=\"dataframe\">\n",
       "  <thead>\n",
       "    <tr style=\"text-align: right;\">\n",
       "      <th></th>\n",
       "      <th>study</th>\n",
       "      <th>IID</th>\n",
       "      <th>phenotype</th>\n",
       "      <th>age</th>\n",
       "      <th>sex</th>\n",
       "      <th>label</th>\n",
       "    </tr>\n",
       "  </thead>\n",
       "  <tbody>\n",
       "    <tr>\n",
       "      <th>0</th>\n",
       "      <td>TEST1</td>\n",
       "      <td>2231_1069</td>\n",
       "      <td>PD</td>\n",
       "      <td>75</td>\n",
       "      <td>1</td>\n",
       "      <td>EUR</td>\n",
       "    </tr>\n",
       "    <tr>\n",
       "      <th>1</th>\n",
       "      <td>TEST1</td>\n",
       "      <td>2231_1220</td>\n",
       "      <td>PD</td>\n",
       "      <td>67</td>\n",
       "      <td>2</td>\n",
       "      <td>EUR</td>\n",
       "    </tr>\n",
       "    <tr>\n",
       "      <th>2</th>\n",
       "      <td>TEST1</td>\n",
       "      <td>2231_1170</td>\n",
       "      <td>Control</td>\n",
       "      <td>60</td>\n",
       "      <td>2</td>\n",
       "      <td>EUR</td>\n",
       "    </tr>\n",
       "    <tr>\n",
       "      <th>3</th>\n",
       "      <td>TEST1</td>\n",
       "      <td>2231_2180</td>\n",
       "      <td>AD</td>\n",
       "      <td>80</td>\n",
       "      <td>2</td>\n",
       "      <td>EUR</td>\n",
       "    </tr>\n",
       "    <tr>\n",
       "      <th>4</th>\n",
       "      <td>TEST1</td>\n",
       "      <td>2231_1431</td>\n",
       "      <td>Control</td>\n",
       "      <td>76</td>\n",
       "      <td>1</td>\n",
       "      <td>MDE</td>\n",
       "    </tr>\n",
       "  </tbody>\n",
       "</table>\n",
       "</div>"
      ],
      "text/plain": [
       "   study        IID phenotype  age  sex label\n",
       "0  TEST1  2231_1069        PD   75    1   EUR\n",
       "1  TEST1  2231_1220        PD   67    2   EUR\n",
       "2  TEST1  2231_1170   Control   60    2   EUR\n",
       "3  TEST1  2231_2180        AD   80    2   EUR\n",
       "4  TEST1  2231_1431   Control   76    1   MDE"
      ]
     },
     "execution_count": 3,
     "metadata": {},
     "output_type": "execute_result"
    }
   ],
   "source": [
    "# Find studies in data release\n",
    "\n",
    "master_path = f'{wd}/example_data/test_master_key.csv'\n",
    "master = pd.read_csv(master_path, low_memory = False)\n",
    "\n",
    "print(master.study.value_counts())\n",
    "master.head()"
   ]
  },
  {
   "cell_type": "code",
   "execution_count": 4,
   "id": "9e44f7d1-fc84-4734-b3d2-d295651cdb3a",
   "metadata": {},
   "outputs": [
    {
     "name": "stdout",
     "output_type": "stream",
     "text": [
      "Chromosome: 6, HG38 Start Position:, 161347557, HG38 Stop Position: 162727802\n"
     ]
    }
   ],
   "source": [
    "# Check that interval exists in reference list (ref_files/glist_hg38_intervals.csv)\n",
    "\n",
    "# Use 'PARK2' or 'PRKN' for this tutorial\n",
    "interval = 'PARK2' # if interval name not recognized can provide chromosome and positions in base pairs\n",
    "chrom, start, stop = check_interval(interval)\n",
    "print(f'Chromosome: {chrom}, HG38 Start Position:, {start}, HG38 Stop Position: {stop}')"
   ]
  },
  {
   "cell_type": "code",
   "execution_count": 5,
   "id": "4c521410",
   "metadata": {},
   "outputs": [
    {
     "data": {
      "text/html": [
       "<div>\n",
       "<style scoped>\n",
       "    .dataframe tbody tr th:only-of-type {\n",
       "        vertical-align: middle;\n",
       "    }\n",
       "\n",
       "    .dataframe tbody tr th {\n",
       "        vertical-align: top;\n",
       "    }\n",
       "\n",
       "    .dataframe thead th {\n",
       "        text-align: right;\n",
       "    }\n",
       "</style>\n",
       "<table border=\"1\" class=\"dataframe\">\n",
       "  <thead>\n",
       "    <tr style=\"text-align: right;\">\n",
       "      <th></th>\n",
       "      <th>snpID</th>\n",
       "      <th>POS</th>\n",
       "      <th>GenTrain_Score</th>\n",
       "    </tr>\n",
       "  </thead>\n",
       "  <tbody>\n",
       "    <tr>\n",
       "      <th>0</th>\n",
       "      <td>JHU_6.149608</td>\n",
       "      <td>149609</td>\n",
       "      <td>0.521508</td>\n",
       "    </tr>\n",
       "    <tr>\n",
       "      <th>1</th>\n",
       "      <td>JHU_6.149635</td>\n",
       "      <td>149636</td>\n",
       "      <td>0.811666</td>\n",
       "    </tr>\n",
       "    <tr>\n",
       "      <th>2</th>\n",
       "      <td>JHU_6.149687</td>\n",
       "      <td>149688</td>\n",
       "      <td>0.723705</td>\n",
       "    </tr>\n",
       "    <tr>\n",
       "      <th>3</th>\n",
       "      <td>JHU_6.150278</td>\n",
       "      <td>150279</td>\n",
       "      <td>0.887905</td>\n",
       "    </tr>\n",
       "    <tr>\n",
       "      <th>4</th>\n",
       "      <td>JHU_6.151281</td>\n",
       "      <td>151282</td>\n",
       "      <td>0.768985</td>\n",
       "    </tr>\n",
       "    <tr>\n",
       "      <th>...</th>\n",
       "      <td>...</td>\n",
       "      <td>...</td>\n",
       "      <td>...</td>\n",
       "    </tr>\n",
       "    <tr>\n",
       "      <th>130707</th>\n",
       "      <td>JHU_6.170909504</td>\n",
       "      <td>170600417</td>\n",
       "      <td>0.844019</td>\n",
       "    </tr>\n",
       "    <tr>\n",
       "      <th>130708</th>\n",
       "      <td>JHU_6.170916939</td>\n",
       "      <td>170607852</td>\n",
       "      <td>0.711168</td>\n",
       "    </tr>\n",
       "    <tr>\n",
       "      <th>130709</th>\n",
       "      <td>exm2266360</td>\n",
       "      <td>170610382</td>\n",
       "      <td>0.551874</td>\n",
       "    </tr>\n",
       "    <tr>\n",
       "      <th>130710</th>\n",
       "      <td>JHU_6.170982071</td>\n",
       "      <td>170672984</td>\n",
       "      <td>0.661204</td>\n",
       "    </tr>\n",
       "    <tr>\n",
       "      <th>130711</th>\n",
       "      <td>JHU_6.171012296</td>\n",
       "      <td>170703209</td>\n",
       "      <td>0.677376</td>\n",
       "    </tr>\n",
       "  </tbody>\n",
       "</table>\n",
       "<p>130712 rows × 3 columns</p>\n",
       "</div>"
      ],
      "text/plain": [
       "                  snpID        POS GenTrain_Score\n",
       "0          JHU_6.149608     149609       0.521508\n",
       "1          JHU_6.149635     149636       0.811666\n",
       "2          JHU_6.149687     149688       0.723705\n",
       "3          JHU_6.150278     150279       0.887905\n",
       "4          JHU_6.151281     151282       0.768985\n",
       "...                 ...        ...            ...\n",
       "130707  JHU_6.170909504  170600417       0.844019\n",
       "130708  JHU_6.170916939  170607852       0.711168\n",
       "130709       exm2266360  170610382       0.551874\n",
       "130710  JHU_6.170982071  170672984       0.661204\n",
       "130711  JHU_6.171012296  170703209       0.677376\n",
       "\n",
       "[130712 rows x 3 columns]"
      ]
     },
     "metadata": {},
     "output_type": "display_data"
    }
   ],
   "source": [
    "# View metadata file for chromosome of interest that holds repeating values per SNP ID\n",
    "metadata_path = f'{wd}/ref_files/NBA_metadata/CHROM={chrom}'\n",
    "metadata = pd.read_parquet(metadata_path)\n",
    "display(metadata)"
   ]
  },
  {
   "cell_type": "code",
   "execution_count": 6,
   "id": "f8d3a0de",
   "metadata": {},
   "outputs": [
    {
     "data": {
      "text/html": [
       "<div>\n",
       "<style scoped>\n",
       "    .dataframe tbody tr th:only-of-type {\n",
       "        vertical-align: middle;\n",
       "    }\n",
       "\n",
       "    .dataframe tbody tr th {\n",
       "        vertical-align: top;\n",
       "    }\n",
       "\n",
       "    .dataframe thead th {\n",
       "        text-align: right;\n",
       "    }\n",
       "</style>\n",
       "<table border=\"1\" class=\"dataframe\">\n",
       "  <thead>\n",
       "    <tr style=\"text-align: right;\">\n",
       "      <th></th>\n",
       "      <th>snpID</th>\n",
       "      <th>BAF</th>\n",
       "      <th>LRR</th>\n",
       "    </tr>\n",
       "  </thead>\n",
       "  <tbody>\n",
       "    <tr>\n",
       "      <th>0</th>\n",
       "      <td>JHU_6.149608</td>\n",
       "      <td>0.453585</td>\n",
       "      <td>0.192400</td>\n",
       "    </tr>\n",
       "    <tr>\n",
       "      <th>1</th>\n",
       "      <td>JHU_6.149635</td>\n",
       "      <td>1.026652</td>\n",
       "      <td>0.017977</td>\n",
       "    </tr>\n",
       "    <tr>\n",
       "      <th>2</th>\n",
       "      <td>JHU_6.149687</td>\n",
       "      <td>0.949016</td>\n",
       "      <td>-0.049884</td>\n",
       "    </tr>\n",
       "    <tr>\n",
       "      <th>3</th>\n",
       "      <td>JHU_6.150278</td>\n",
       "      <td>0.983779</td>\n",
       "      <td>-0.025711</td>\n",
       "    </tr>\n",
       "    <tr>\n",
       "      <th>4</th>\n",
       "      <td>JHU_6.151281</td>\n",
       "      <td>0.002548</td>\n",
       "      <td>0.158113</td>\n",
       "    </tr>\n",
       "    <tr>\n",
       "      <th>...</th>\n",
       "      <td>...</td>\n",
       "      <td>...</td>\n",
       "      <td>...</td>\n",
       "    </tr>\n",
       "    <tr>\n",
       "      <th>128613</th>\n",
       "      <td>JHU_6.170909504</td>\n",
       "      <td>0.889003</td>\n",
       "      <td>-0.088134</td>\n",
       "    </tr>\n",
       "    <tr>\n",
       "      <th>128614</th>\n",
       "      <td>JHU_6.170916939</td>\n",
       "      <td>-0.040370</td>\n",
       "      <td>0.083401</td>\n",
       "    </tr>\n",
       "    <tr>\n",
       "      <th>128615</th>\n",
       "      <td>exm2266360</td>\n",
       "      <td>1.015652</td>\n",
       "      <td>0.023781</td>\n",
       "    </tr>\n",
       "    <tr>\n",
       "      <th>128616</th>\n",
       "      <td>JHU_6.170982071</td>\n",
       "      <td>-0.063196</td>\n",
       "      <td>0.168623</td>\n",
       "    </tr>\n",
       "    <tr>\n",
       "      <th>128617</th>\n",
       "      <td>JHU_6.171012296</td>\n",
       "      <td>0.987995</td>\n",
       "      <td>-0.256246</td>\n",
       "    </tr>\n",
       "  </tbody>\n",
       "</table>\n",
       "<p>128618 rows × 3 columns</p>\n",
       "</div>"
      ],
      "text/plain": [
       "                  snpID       BAF       LRR\n",
       "0          JHU_6.149608  0.453585  0.192400\n",
       "1          JHU_6.149635  1.026652  0.017977\n",
       "2          JHU_6.149687  0.949016 -0.049884\n",
       "3          JHU_6.150278  0.983779 -0.025711\n",
       "4          JHU_6.151281  0.002548  0.158113\n",
       "...                 ...       ...       ...\n",
       "128613  JHU_6.170909504  0.889003 -0.088134\n",
       "128614  JHU_6.170916939 -0.040370  0.083401\n",
       "128615       exm2266360  1.015652  0.023781\n",
       "128616  JHU_6.170982071 -0.063196  0.168623\n",
       "128617  JHU_6.171012296  0.987995 -0.256246\n",
       "\n",
       "[128618 rows x 3 columns]"
      ]
     },
     "metadata": {},
     "output_type": "display_data"
    }
   ],
   "source": [
    "# View one sample's SNP metrics\n",
    "\n",
    "sample = '2231_1069'\n",
    "barcode = sample.split('_')[0]\n",
    "\n",
    "metrics_path = f'{wd}/example_data/snp_metrics/{barcode}/{sample}/chromosome={chrom}'\n",
    "metrics_df = pd.read_parquet(metrics_path)\n",
    "display(metrics_df)"
   ]
  },
  {
   "cell_type": "code",
   "execution_count": 7,
   "id": "b2a30373",
   "metadata": {},
   "outputs": [],
   "source": [
    "# Set up paths\n",
    "study = 'TEST2' # 'all' for no specified cohort\n",
    "model = 'del' # 'del' or 'dup'\n",
    "\n",
    "# For use with pre-trained models\n",
    "if model == 'del':\n",
    "    split = 5\n",
    "    window_count = 50\n",
    "elif model == 'dup':\n",
    "    split = 10\n",
    "    window_count = 70\n",
    "\n",
    "cpus = 8\n",
    "size = len(master[master.study == study])\n",
    "out_dir = f'{wd}/testing/{model}/{study}/{interval}'\n",
    "out_path = f'{out_dir}/{study}_{interval}_{split}_{window_count}'\n",
    "\n",
    "os.makedirs(out_dir, exist_ok=True)"
   ]
  },
  {
   "cell_type": "markdown",
   "id": "999278b1",
   "metadata": {},
   "source": [
    "### ML Data Prep"
   ]
  },
  {
   "cell_type": "code",
   "execution_count": null,
   "id": "5a4d777a",
   "metadata": {},
   "outputs": [],
   "source": [
    "# Create command to launch with available arguments\n",
    "\n",
    "cmd = f'python {wd}/modules/run_data_prep.py \\\n",
    "--interval_name {interval} \\\n",
    "--study_name {study} \\\n",
    "--split_interval {split} \\\n",
    "--total_windows {window_count} \\\n",
    "--master_file {master_path} \\\n",
    "--metrics_path {wd}/example_data/snp_metrics \\\n",
    "--cpus {cpus} \\\n",
    "--out_path {out_path} \\\n",
    "--create_testing \\\n",
    "--test_size {size}'"
   ]
  },
  {
   "cell_type": "code",
   "execution_count": null,
   "id": "abf9da2c",
   "metadata": {},
   "outputs": [],
   "source": [
    "# Launch command - this implementation creates a tmp file directory\n",
    "! {cmd}"
   ]
  },
  {
   "cell_type": "markdown",
   "id": "c2557b29",
   "metadata": {},
   "source": [
    "### LSTM Model"
   ]
  },
  {
   "cell_type": "code",
   "execution_count": 10,
   "id": "8d15bf8a",
   "metadata": {},
   "outputs": [],
   "source": [
    "# Parameters to run pre-saved models (can use prelim, updated, or final models from ref_files/models with same flags)\n",
    "\n",
    "if model == 'del':\n",
    "    cmd = f'python {wd}/modules/run_lstm_model.py \\\n",
    "    --test_file {out_path}_samples_windows.csv \\\n",
    "    --feature_names dosage_interval dosage_full {model}_dosage_full {model}_dosage_interval std_baf std_mid_baf std_lrr iqr_baf iqr_mid_baf iqr_lrr avg_baf avg_mid_baf avg_lrr \\\n",
    "    --model_file {wd}/ref_files/models/final_{model}_{split}_{window_count}_combo4_lstm.keras \\\n",
    "    --predict \\\n",
    "    --print_summary \\\n",
    "    --out_path {out_path}'\n",
    "\n",
    "elif model == 'dup':\n",
    "    cmd = f'python {wd}/modules/run_lstm_model.py \\\n",
    "    --test_file {out_path}_samples_windows.csv \\\n",
    "    --feature_names dosage_interval {model}_dosage_full std_baf std_mid_baf std_lrr iqr_baf iqr_mid_baf iqr_lrr avg_baf avg_mid_baf avg_lrr \\\n",
    "    --model_file {wd}/ref_files/models/final_{model}_{split}_{window_count}_combo6_lstm.keras \\\n",
    "    --predict \\\n",
    "    --print_summary \\\n",
    "    --out_path {out_path}'  "
   ]
  },
  {
   "cell_type": "code",
   "execution_count": null,
   "id": "b7a45a96",
   "metadata": {},
   "outputs": [],
   "source": [
    "! {cmd}"
   ]
  },
  {
   "cell_type": "markdown",
   "id": "ecb8823f",
   "metadata": {},
   "source": [
    "### App Prep"
   ]
  },
  {
   "cell_type": "code",
   "execution_count": 12,
   "id": "1885ae85",
   "metadata": {},
   "outputs": [],
   "source": [
    "# Easier transfer from HPC to local app folder for Streamlit visuals\n",
    "\n",
    "# Combine all app-ready files into cohort-specific folders\n",
    "app_dir = f'{wd}/testing/app_ready/{study}/final_{model}_model/{interval}'\n",
    "app_out = f'{app_dir}/{study}_{interval}'\n",
    "\n",
    "os.makedirs(app_dir, exist_ok=True)"
   ]
  },
  {
   "cell_type": "code",
   "execution_count": 13,
   "id": "6198a49e",
   "metadata": {},
   "outputs": [],
   "source": [
    "cmd = f'python modules/run_app_prep.py \\\n",
    "--interval_name {interval} \\\n",
    "--test_set_ids {out_path}_testing_IDs.csv \\\n",
    "--test_set_windows {out_path}_samples_windows.csv \\\n",
    "--test_set_results {out_path}_windows_results.csv \\\n",
    "--cpus {cpus} \\\n",
    "--out_path {app_out} \\\n",
    "--make_app_ready'"
   ]
  },
  {
   "cell_type": "code",
   "execution_count": 14,
   "id": "857ae4bd",
   "metadata": {},
   "outputs": [],
   "source": [
    "! {cmd}"
   ]
  },
  {
   "cell_type": "code",
   "execution_count": null,
   "id": "66d4f67a",
   "metadata": {},
   "outputs": [],
   "source": [
    "# Run app code from your terminal\n",
    "! streamlit run app/Home.py"
   ]
  },
  {
   "cell_type": "markdown",
   "id": "2450dc13",
   "metadata": {},
   "source": [
    "---\n",
    "\n",
    "### Good job!\n",
    "If you generated predictions for _PRKN_, you should notice that the TEST1 cohort has 5 samples with deletions while TEST2 has 5 samples with duplications in this gene region."
   ]
  }
 ],
 "metadata": {
  "kernelspec": {
   "display_name": "cnv_trial1",
   "language": "python",
   "name": "python3"
  },
  "language_info": {
   "codemirror_mode": {
    "name": "ipython",
    "version": 3
   },
   "file_extension": ".py",
   "mimetype": "text/x-python",
   "name": "python",
   "nbconvert_exporter": "python",
   "pygments_lexer": "ipython3",
   "version": "3.9.16"
  }
 },
 "nbformat": 4,
 "nbformat_minor": 5
}
