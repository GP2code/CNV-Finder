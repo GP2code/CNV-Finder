{
 "cells": [
  {
   "cell_type": "code",
   "execution_count": 1,
   "source": [
    "### eventually minimize on imports\n",
    "import pandas as pd\n",
    "import sys\n",
    "import os\n",
    "import subprocess\n",
    "import shutil\n",
    "import numpy as np\n",
    "import glob\n",
    "import matplotlib.pyplot as plt\n",
    "import seaborn as sns\n",
    "import plotly.graph_objects as go\n",
    "import plotly.express as px\n",
    "import importlib\n",
    "import plotly\n",
    "import random"
   ],
   "outputs": [],
   "metadata": {}
  },
  {
   "cell_type": "code",
   "execution_count": 2,
   "source": [
    "# Supress copy warning.\n",
    "pd.options.mode.chained_assignment = None"
   ],
   "outputs": [],
   "metadata": {}
  },
  {
   "cell_type": "code",
   "execution_count": 3,
   "source": [
    "def shell_do(command, log=False, return_log=False):\n",
    "    print(f'Executing: {(\" \").join(command.split())}', file=sys.stderr)\n",
    "\n",
    "    res=subprocess.run(command.split(), stdout=subprocess.PIPE)\n",
    "\n",
    "    if log:\n",
    "        print(res.stdout.decode('utf-8'))\n",
    "    if return_log:\n",
    "        return(res.stdout.decode('utf-8'))"
   ],
   "outputs": [],
   "metadata": {}
  },
  {
   "cell_type": "code",
   "execution_count": 4,
   "source": [
    "wd = '/YOUR/DIRECTORY'"
   ],
   "outputs": [],
   "metadata": {}
  },
  {
   "cell_type": "markdown",
   "source": [
    "### ML Data Prep"
   ],
   "metadata": {}
  },
  {
   "cell_type": "code",
   "execution_count": 95,
   "source": [
    "cmd = f'python run_data_prep.py \\\n",
    "--interval_name PARK2 \\\n",
    "--training_ids {wd}/ref_files/training_set_IDs.csv \\\n",
    "--out_path {wd}/testing/GP2_PRKN_all \\\n",
    "--create_testing yes \\\n",
    "--test_size 150' # currently acts as max test size b/c of missing snp metrics"
   ],
   "outputs": [],
   "metadata": {}
  },
  {
   "cell_type": "code",
   "execution_count": 96,
   "source": [
    "conda_env = 'python_3_9'\n",
    "\n",
    "with open('swarm/data_prep.sh', 'w') as f:\n",
    "    f.write('#!/usr/bin/env bash\\n\\n')\n",
    "    f.write('source /data/$USER/conda/etc/profile.d/conda.sh\\n')\n",
    "    f.write(f'conda activate {conda_env}\\n')\n",
    "    f.write(cmd)\n",
    "    f.close()\n",
    "    \n",
    "with open('swarm/data_prep.swarm', 'w') as f:\n",
    "    f.write('bash swarm/data_prep.sh')\n",
    "    f.close()\n",
    "    \n",
    "swarm_cmd = f'swarm -f swarm/data_prep.swarm --g 200 --time=2:00:00 --logdir swarm/logs --module python/3.9'\n",
    "shell_do(swarm_cmd)"
   ],
   "outputs": [
    {
     "output_type": "stream",
     "name": "stderr",
     "text": [
      "Executing: swarm -f swarm/data_prep.swarm --g 200 --time=2:00:00 --logdir swarm/logs --module python/3.9\n"
     ]
    }
   ],
   "metadata": {}
  },
  {
   "cell_type": "markdown",
   "source": [
    "### LSTM Model"
   ],
   "metadata": {}
  },
  {
   "cell_type": "code",
   "execution_count": 15,
   "source": [
    "cmd = f'python run_lstm_model.py \\\n",
    "--train_file {wd}/ref_files/final_overlapping_del_training_set_5_intervals.csv \\\n",
    "--test_file {wd}/testing/GP2_PRKN_all_samples_windows.csv \\\n",
    "--feature_names dosage_interval dosage_gene del_dosage std_baf std_lrr iqr_baf iqr_lrr avg_baf avg_lrr \\\n",
    "--model_file {wd}/testing/GP2_PRKN_all_31_windows.keras \\\n",
    "--predict \\\n",
    "--print_summary \\\n",
    "--out_path {wd}/testing/GP2_PRKN_all'"
   ],
   "outputs": [],
   "metadata": {}
  },
  {
   "cell_type": "code",
   "execution_count": 16,
   "source": [
    "conda_env = 'python_3_9'\n",
    "\n",
    "with open('swarm/ml_model.sh', 'w') as f:\n",
    "    f.write('#!/usr/bin/env bash\\n\\n')\n",
    "    f.write('source /data/$USER/conda/etc/profile.d/conda.sh\\n')\n",
    "    f.write(f'conda activate {conda_env}\\n')\n",
    "    f.write(cmd)\n",
    "    f.close()\n",
    "    \n",
    "with open('swarm/ml_model.swarm', 'w') as f:\n",
    "    f.write('bash swarm/ml_model.sh')\n",
    "    f.close()\n",
    "    \n",
    "swarm_cmd = f'swarm -f swarm/ml_model.swarm --g 200 --time=2:00:00 --logdir swarm/logs --module python/3.9'\n",
    "shell_do(swarm_cmd)"
   ],
   "outputs": [
    {
     "output_type": "stream",
     "name": "stderr",
     "text": [
      "Executing: swarm -f swarm/ml_model.swarm --g 200 --time=2:00:00 --logdir swarm/logs --module python/3.9\n"
     ]
    }
   ],
   "metadata": {}
  },
  {
   "cell_type": "markdown",
   "source": [
    "### Local Download & App Prep"
   ],
   "metadata": {}
  },
  {
   "cell_type": "code",
   "execution_count": 24,
   "source": [
    "cmd = f'python run_app_prep.py \\\n",
    "--interval_name PARK2 \\\n",
    "--test_set_ids {wd}/testing/GP2_PRKN_all_testing_IDs.csv \\\n",
    "--test_set_windows {wd}/testing/GP2_PRKN_all_samples_windows.csv \\\n",
    "--test_set_results {wd}/testing/GP2_PRKN_all_31_windows_results.csv \\\n",
    "--out_path {wd}/testing/GP2_PRKN_all \\\n",
    "--make_app_ready'"
   ],
   "outputs": [],
   "metadata": {}
  },
  {
   "cell_type": "code",
   "execution_count": 25,
   "source": [
    "conda_env = 'python_3_9'\n",
    "\n",
    "with open('swarm/app_prep.sh', 'w') as f:\n",
    "    f.write('#!/usr/bin/env bash\\n\\n')\n",
    "    f.write('source /data/$USER/conda/etc/profile.d/conda.sh\\n')\n",
    "    f.write(f'conda activate {conda_env}\\n')\n",
    "    f.write(cmd)\n",
    "    f.close()\n",
    "    \n",
    "with open('swarm/app_prep.swarm', 'w') as f:\n",
    "    f.write('bash swarm/app_prep.sh')\n",
    "    f.close()\n",
    "    \n",
    "swarm_cmd = f'swarm -f swarm/app_prep.swarm --g 200 --time=2:00:00 --logdir swarm/logs --module python/3.9'\n",
    "shell_do(swarm_cmd)"
   ],
   "outputs": [
    {
     "output_type": "stream",
     "name": "stderr",
     "text": [
      "Executing: swarm -f swarm/app_prep.swarm --g 200 --time=2:00:00 --logdir swarm/logs --module python/3.9\n"
     ]
    }
   ],
   "metadata": {}
  },
  {
   "cell_type": "code",
   "execution_count": null,
   "source": [],
   "outputs": [],
   "metadata": {}
  }
 ],
 "metadata": {
  "kernelspec": {
   "display_name": "Python 3 (ipykernel)",
   "language": "python",
   "name": "python3"
  },
  "language_info": {
   "codemirror_mode": {
    "name": "ipython",
    "version": 3
   },
   "file_extension": ".py",
   "mimetype": "text/x-python",
   "name": "python",
   "nbconvert_exporter": "python",
   "pygments_lexer": "ipython3",
   "version": "3.9.16"
  }
 },
 "nbformat": 4,
 "nbformat_minor": 5
}