{
 "cells": [
  {
   "cell_type": "markdown",
   "id": "83e26dcf",
   "metadata": {},
   "source": [
    "# Running CNV-Finder on Provided Example Data\n",
    "\n",
    "* **Version:** Python/3.9.16\n",
    "* **Status:** Complete\n",
    "* **Last Updated:** 17-NOV-2024\n",
    "\n",
    "### Notebook Description\n",
    "The following is a short template for how researchers can use CNV-Finder to explore a large data release for highly probable CNV samples within specific cohorts and regions of interest. \n",
    "\n",
    "More customizable argument flags are avaiable to use, outlined in `docs/parameter_guide.md` or are coming soon!\n",
    "\n",
    "---"
   ]
  },
  {
   "cell_type": "markdown",
   "id": "eea0daf6",
   "metadata": {},
   "source": [
    "### Getting started"
   ]
  },
  {
   "cell_type": "code",
   "execution_count": 1,
   "id": "5b30bd7c",
   "metadata": {},
   "outputs": [],
   "source": [
    "# Import necessary packages after pip installing requirements.txt\n",
    "import sys\n",
    "import os\n",
    "import subprocess\n",
    "import pandas as pd\n",
    "import numpy as np\n",
    "\n",
    "from modules.cnv_finder.data_methods import check_interval"
   ]
  },
  {
   "cell_type": "code",
   "execution_count": 2,
   "id": "48f274f0",
   "metadata": {},
   "outputs": [],
   "source": [
    "# Method to launch jobs in HPC, can otherwise launch commands in terminal\n",
    "def shell_do(command, log=False, return_log=False):\n",
    "    print(f'Executing: {(\" \").join(command.split())}', file=sys.stderr)\n",
    "\n",
    "    res=subprocess.run(command.split(), stdout=subprocess.PIPE)\n",
    "\n",
    "    if log:\n",
    "        print(res.stdout.decode('utf-8'))\n",
    "    if return_log:\n",
    "        return(res.stdout.decode('utf-8'))"
   ]
  },
  {
   "cell_type": "code",
   "execution_count": 3,
   "id": "e659f6ad",
   "metadata": {},
   "outputs": [],
   "source": [
    "# Define your working directory\n",
    "wd = '/YOUR/DIRECTORY'"
   ]
  },
  {
   "cell_type": "markdown",
   "id": "5e6d3ae9",
   "metadata": {},
   "source": [
    "### Path Set-Up"
   ]
  },
  {
   "cell_type": "code",
   "execution_count": 4,
   "id": "5f6655fd",
   "metadata": {},
   "outputs": [
    {
     "name": "stdout",
     "output_type": "stream",
     "text": [
      "study\n",
      "TEST1    10\n",
      "TEST2    10\n",
      "Name: count, dtype: int64\n"
     ]
    },
    {
     "data": {
      "text/html": [
       "<div>\n",
       "<style scoped>\n",
       "    .dataframe tbody tr th:only-of-type {\n",
       "        vertical-align: middle;\n",
       "    }\n",
       "\n",
       "    .dataframe tbody tr th {\n",
       "        vertical-align: top;\n",
       "    }\n",
       "\n",
       "    .dataframe thead th {\n",
       "        text-align: right;\n",
       "    }\n",
       "</style>\n",
       "<table border=\"1\" class=\"dataframe\">\n",
       "  <thead>\n",
       "    <tr style=\"text-align: right;\">\n",
       "      <th></th>\n",
       "      <th>study</th>\n",
       "      <th>IID</th>\n",
       "      <th>phenotype</th>\n",
       "      <th>age</th>\n",
       "      <th>sex</th>\n",
       "      <th>label</th>\n",
       "    </tr>\n",
       "  </thead>\n",
       "  <tbody>\n",
       "    <tr>\n",
       "      <th>0</th>\n",
       "      <td>TEST1</td>\n",
       "      <td>Sample_1104</td>\n",
       "      <td>PD</td>\n",
       "      <td>70</td>\n",
       "      <td>2</td>\n",
       "      <td>EUR</td>\n",
       "    </tr>\n",
       "    <tr>\n",
       "      <th>1</th>\n",
       "      <td>TEST1</td>\n",
       "      <td>Sample_1112</td>\n",
       "      <td>PD</td>\n",
       "      <td>74</td>\n",
       "      <td>1</td>\n",
       "      <td>EUR</td>\n",
       "    </tr>\n",
       "    <tr>\n",
       "      <th>2</th>\n",
       "      <td>TEST1</td>\n",
       "      <td>Sample_1735</td>\n",
       "      <td>Control</td>\n",
       "      <td>63</td>\n",
       "      <td>1</td>\n",
       "      <td>EUR</td>\n",
       "    </tr>\n",
       "    <tr>\n",
       "      <th>3</th>\n",
       "      <td>TEST1</td>\n",
       "      <td>Sample_1539</td>\n",
       "      <td>AD</td>\n",
       "      <td>84</td>\n",
       "      <td>1</td>\n",
       "      <td>EUR</td>\n",
       "    </tr>\n",
       "    <tr>\n",
       "      <th>4</th>\n",
       "      <td>TEST1</td>\n",
       "      <td>Sample_2379</td>\n",
       "      <td>Control</td>\n",
       "      <td>76</td>\n",
       "      <td>2</td>\n",
       "      <td>MDE</td>\n",
       "    </tr>\n",
       "  </tbody>\n",
       "</table>\n",
       "</div>"
      ],
      "text/plain": [
       "   study          IID phenotype  age  sex label\n",
       "0  TEST1  Sample_1104        PD   70    2   EUR\n",
       "1  TEST1  Sample_1112        PD   74    1   EUR\n",
       "2  TEST1  Sample_1735   Control   63    1   EUR\n",
       "3  TEST1  Sample_1539        AD   84    1   EUR\n",
       "4  TEST1  Sample_2379   Control   76    2   MDE"
      ]
     },
     "execution_count": 4,
     "metadata": {},
     "output_type": "execute_result"
    }
   ],
   "source": [
    "# Find studies in data release\n",
    "\n",
    "master_path = f'{wd}/example_data/test_master_key.csv'\n",
    "master = pd.read_csv(master_path)\n",
    "\n",
    "print(master.study.value_counts())\n",
    "master.head()"
   ]
  },
  {
   "cell_type": "code",
   "execution_count": 5,
   "id": "9e44f7d1-fc84-4734-b3d2-d295651cdb3a",
   "metadata": {},
   "outputs": [
    {
     "name": "stdout",
     "output_type": "stream",
     "text": [
      "Chromosome: 6, HG38 Start Position:, 161347557, HG38 Stop Position: 162727802\n"
     ]
    }
   ],
   "source": [
    "# Check that interval exists in reference list (ref_files/glist_hg38_intervals.csv)\n",
    "\n",
    "# Use 'PARK2' or 'PRKN' for this tutorial\n",
    "interval = 'PARK2' # if interval name not recognized can provide chromosome and positions in base pairs\n",
    "chrom, start, stop = check_interval(interval)\n",
    "print(f'Chromosome: {chrom}, HG38 Start Position:, {start}, HG38 Stop Position: {stop}')"
   ]
  },
  {
   "cell_type": "code",
   "execution_count": 70,
   "id": "b2a30373",
   "metadata": {},
   "outputs": [],
   "source": [
    "# Set up paths\n",
    "study = 'TEST1' # 'all' for no specified cohort\n",
    "model = 'dup' # 'del' or 'dup'\n",
    "\n",
    "# For use with pre-trained models\n",
    "if model == 'del':\n",
    "    split = 5\n",
    "    window_count = 50\n",
    "elif model == 'dup':\n",
    "    split = 10\n",
    "    window_count = 70\n",
    "\n",
    "cpus = 8\n",
    "size = len(master[master.study == study])\n",
    "out_dir = f'{wd}/testing/{model}/{study}/{interval}'\n",
    "out_path = f'{out_dir}/{study}_{interval}_{split}_{window_count}'\n",
    "\n",
    "os.makedirs(out_dir, exist_ok=True)"
   ]
  },
  {
   "cell_type": "markdown",
   "id": "999278b1",
   "metadata": {},
   "source": [
    "### ML Data Prep"
   ]
  },
  {
   "cell_type": "code",
   "execution_count": 44,
   "id": "5a4d777a",
   "metadata": {},
   "outputs": [],
   "source": [
    "cmd = f'python modules/run_data_prep.py \\\n",
    "--interval_name {interval} \\\n",
    "--study_name {study} \\\n",
    "--split_interval {split} \\\n",
    "--total_windows {window_count} \\\n",
    "--master_file {master_path} \\\n",
    "--metrics_path {wd}/example_data/snp_metrics \\\n",
    "--cpus {cpus} \\\n",
    "--out_path {out_path} \\\n",
    "--create_testing \\\n",
    "--test_size {size}'"
   ]
  },
  {
   "cell_type": "code",
   "execution_count": 45,
   "id": "ed7c4a09",
   "metadata": {},
   "outputs": [
    {
     "name": "stderr",
     "output_type": "stream",
     "text": [
      "Executing: swarm -f swarm/data_prep_TEST1_PARK2_dup.swarm --g 25 --time=15:00:00 --logdir swarm/logs --module python/3.9\n"
     ]
    }
   ],
   "source": [
    "# Launch a job with your HPC\n",
    "conda_env = 'python_3_9' # holds packages from requirements.txt file\n",
    "os.makedirs('swarm', exist_ok=True)\n",
    "\n",
    "with open(f'swarm/data_prep_{study}_{interval}_{model}.sh', 'w') as f:\n",
    "    f.write('#!/usr/bin/env bash\\n\\n')\n",
    "    f.write('source /data/$USER/conda/etc/profile.d/conda.sh\\n')\n",
    "    f.write(f'conda activate {conda_env}\\n')\n",
    "    f.write(cmd)\n",
    "    f.close()\n",
    "    \n",
    "with open(f'swarm/data_prep_{study}_{interval}_{model}.swarm', 'w') as f:\n",
    "    f.write(f'bash swarm/data_prep_{study}_{interval}_{model}.sh')\n",
    "    f.close()\n",
    "\n",
    "swarm_cmd = f'swarm -f swarm/data_prep_{study}_{interval}_{model}.swarm --g 25 --time=15:00:00 --logdir swarm/logs --module python/3.9'\n",
    "shell_do(swarm_cmd)"
   ]
  },
  {
   "cell_type": "markdown",
   "id": "c2557b29",
   "metadata": {},
   "source": [
    "### LSTM Model"
   ]
  },
  {
   "cell_type": "code",
   "execution_count": 56,
   "id": "8d15bf8a",
   "metadata": {},
   "outputs": [],
   "source": [
    "# Parameters to run pre-saved models (can use prelim, updated, or final models from ref_files/models with same flags)\n",
    "if model == 'del':\n",
    "    cmd = f'python modules/run_lstm_model.py \\\n",
    "    --test_file {out_path}_samples_windows.csv \\\n",
    "    --feature_names dosage_interval dosage_full {model}_dosage_full {model}_dosage_interval std_baf std_mid_baf std_lrr iqr_baf iqr_mid_baf iqr_lrr avg_baf avg_mid_baf avg_lrr \\\n",
    "    --model_file {wd}/ref_files/models/final_{model}_{split}_{window_count}_combo4_lstm.keras \\\n",
    "    --predict \\\n",
    "    --print_summary \\\n",
    "    --out_path {out_path}'\n",
    "\n",
    "elif model == 'dup':\n",
    "    cmd = f'python modules/run_lstm_model.py \\\n",
    "    --test_file {out_path}_samples_windows.csv \\\n",
    "    --feature_names dosage_interval {model}_dosage_full std_baf std_mid_baf std_lrr iqr_baf iqr_mid_baf iqr_lrr avg_baf avg_mid_baf avg_lrr \\\n",
    "    --model_file {wd}/ref_files/models/final_{model}_{split}_{window_count}_combo6_lstm.keras \\\n",
    "    --predict \\\n",
    "    --print_summary \\\n",
    "    --out_path {out_path}'  "
   ]
  },
  {
   "cell_type": "code",
   "execution_count": 57,
   "id": "37bd80f8",
   "metadata": {},
   "outputs": [
    {
     "name": "stderr",
     "output_type": "stream",
     "text": [
      "Executing: swarm -f swarm/ml_model_TEST1_PARK2_dup.swarm --g 16 --time=1:00:00 --logdir swarm/logs --module python/3.9\n"
     ]
    }
   ],
   "source": [
    "# Launch a job with your HPC\n",
    "conda_env = 'python_3_9'\n",
    "os.makedirs('swarm', exist_ok=True)\n",
    "\n",
    "with open(f'swarm/ml_model_{study}_{interval}_{model}.sh', 'w') as f:\n",
    "    f.write('#!/usr/bin/env bash\\n\\n')\n",
    "    f.write('source /data/$USER/conda/etc/profile.d/conda.sh\\n')\n",
    "    f.write(f'conda activate {conda_env}\\n')\n",
    "    f.write(cmd)\n",
    "    f.close()\n",
    "    \n",
    "with open(f'swarm/ml_model_{study}_{interval}_{model}.swarm', 'w') as f:\n",
    "    f.write(f'bash swarm/ml_model_{study}_{interval}_{model}.sh')\n",
    "    f.close()\n",
    "    \n",
    "swarm_cmd = f'swarm -f swarm/ml_model_{study}_{interval}_{model}.swarm --g 16 --time=1:00:00 --logdir swarm/logs --module python/3.9'\n",
    "shell_do(swarm_cmd)"
   ]
  },
  {
   "cell_type": "markdown",
   "id": "36dfa03f",
   "metadata": {},
   "source": [
    "### App Prep & Local Functions"
   ]
  },
  {
   "cell_type": "code",
   "execution_count": 71,
   "id": "1885ae85",
   "metadata": {},
   "outputs": [],
   "source": [
    "# Easier transfer from HPC to local app folder for Streamlit visuals\n",
    "\n",
    "# Combine all app-ready files into cohort-specific folders\n",
    "app_dir = f'{wd}/testing/app_ready/{study}/final_{model}_model/{interval}'\n",
    "app_out = f'{app_dir}/{study}_{interval}'\n",
    "\n",
    "os.makedirs(app_dir, exist_ok=True)"
   ]
  },
  {
   "cell_type": "code",
   "execution_count": 72,
   "id": "6198a49e",
   "metadata": {},
   "outputs": [],
   "source": [
    "cmd = f'python modules/run_app_prep.py \\\n",
    "--interval_name {interval} \\\n",
    "--test_set_ids {out_path}_testing_IDs.csv \\\n",
    "--test_set_windows {out_path}_samples_windows.csv \\\n",
    "--test_set_results {out_path}_windows_results.csv \\\n",
    "--cpus {cpus} \\\n",
    "--out_path {app_out} \\\n",
    "--make_app_ready'"
   ]
  },
  {
   "cell_type": "code",
   "execution_count": 73,
   "id": "90485eaa-6ef6-4809-8912-f7e41b32d5b5",
   "metadata": {},
   "outputs": [
    {
     "name": "stderr",
     "output_type": "stream",
     "text": [
      "Executing: swarm -f swarm/app_prep_TEST1_PARK2_dup.swarm --g 25 --time=2:00:00 --logdir swarm/logs --module python/3.9\n"
     ]
    }
   ],
   "source": [
    "# Launch a job with your HPC\n",
    "conda_env = 'python_3_9'\n",
    "os.makedirs('swarm', exist_ok=True)\n",
    "\n",
    "with open(f'swarm/app_prep_{study}_{interval}_{model}.sh', 'w') as f:\n",
    "    f.write('#!/usr/bin/env bash\\n\\n')\n",
    "    f.write('source /data/$USER/conda/etc/profile.d/conda.sh\\n')\n",
    "    f.write(f'conda activate {conda_env}\\n')\n",
    "    f.write(cmd)\n",
    "    f.close()\n",
    "    \n",
    "with open(f'swarm/app_prep_{study}_{interval}_{model}.swarm', 'w') as f:\n",
    "    f.write(f'bash swarm/app_prep_{study}_{interval}_{model}.sh')\n",
    "    f.close()\n",
    "    \n",
    "swarm_cmd = f'swarm -f swarm/app_prep_{study}_{interval}_{model}.swarm --g 25 --time=2:00:00 --logdir swarm/logs --module python/3.9'\n",
    "shell_do(swarm_cmd)"
   ]
  },
  {
   "cell_type": "code",
   "execution_count": null,
   "id": "66d4f67a",
   "metadata": {},
   "outputs": [],
   "source": [
    "# Run app code from your terminal\n",
    "! streamlit run app/Home.py"
   ]
  },
  {
   "cell_type": "markdown",
   "id": "2450dc13",
   "metadata": {},
   "source": [
    "---\n",
    "\n",
    "### Good job!\n",
    "If you generated predictions for _PRKN_, you should notice that the TEST1 cohort has 5 samples with deletions while TEST2 has 5 samples with duplications in this gene region."
   ]
  }
 ],
 "metadata": {
  "kernelspec": {
   "display_name": "Python 3 (ipykernel)",
   "language": "python",
   "name": "python3"
  },
  "language_info": {
   "codemirror_mode": {
    "name": "ipython",
    "version": 3
   },
   "file_extension": ".py",
   "mimetype": "text/x-python",
   "name": "python",
   "nbconvert_exporter": "python",
   "pygments_lexer": "ipython3",
   "version": "3.9.16"
  }
 },
 "nbformat": 4,
 "nbformat_minor": 5
}
